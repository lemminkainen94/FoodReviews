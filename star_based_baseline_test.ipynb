{
 "cells": [
  {
   "cell_type": "markdown",
   "id": "bb6dd333",
   "metadata": {},
   "source": [
    "# Let's see if using stars gives a better result on TBSA"
   ]
  },
  {
   "cell_type": "code",
   "execution_count": 13,
   "id": "4861a940",
   "metadata": {},
   "outputs": [],
   "source": [
    "import numpy as np\n",
    "import pandas as pd\n",
    "from sklearn.metrics import accuracy_score, f1_score, confusion_matrix"
   ]
  },
  {
   "cell_type": "code",
   "execution_count": 3,
   "id": "68b7e831",
   "metadata": {},
   "outputs": [
    {
     "data": {
      "text/html": [
       "<div>\n",
       "<style scoped>\n",
       "    .dataframe tbody tr th:only-of-type {\n",
       "        vertical-align: middle;\n",
       "    }\n",
       "\n",
       "    .dataframe tbody tr th {\n",
       "        vertical-align: top;\n",
       "    }\n",
       "\n",
       "    .dataframe thead th {\n",
       "        text-align: right;\n",
       "    }\n",
       "</style>\n",
       "<table border=\"1\" class=\"dataframe\">\n",
       "  <thead>\n",
       "    <tr style=\"text-align: right;\">\n",
       "      <th></th>\n",
       "      <th>target</th>\n",
       "      <th>text</th>\n",
       "      <th>sentiment</th>\n",
       "      <th>stars</th>\n",
       "    </tr>\n",
       "  </thead>\n",
       "  <tbody>\n",
       "    <tr>\n",
       "      <th>0</th>\n",
       "      <td>omelette</td>\n",
       "      <td>we arrived at the restaurant at 11:58. i asked...</td>\n",
       "      <td>0</td>\n",
       "      <td>1</td>\n",
       "    </tr>\n",
       "    <tr>\n",
       "      <th>1</th>\n",
       "      <td>omelette</td>\n",
       "      <td>delicious breakfasts, scrambled eggs, omelette...</td>\n",
       "      <td>1</td>\n",
       "      <td>5</td>\n",
       "    </tr>\n",
       "    <tr>\n",
       "      <th>2</th>\n",
       "      <td>omelette</td>\n",
       "      <td>we recommend the breakfasts very much! we took...</td>\n",
       "      <td>1</td>\n",
       "      <td>5</td>\n",
       "    </tr>\n",
       "    <tr>\n",
       "      <th>3</th>\n",
       "      <td>omelette</td>\n",
       "      <td>always a good spot for some delightful breakfa...</td>\n",
       "      <td>1</td>\n",
       "      <td>5</td>\n",
       "    </tr>\n",
       "    <tr>\n",
       "      <th>4</th>\n",
       "      <td>omelette</td>\n",
       "      <td>great location across from times square marrio...</td>\n",
       "      <td>1</td>\n",
       "      <td>4</td>\n",
       "    </tr>\n",
       "  </tbody>\n",
       "</table>\n",
       "</div>"
      ],
      "text/plain": [
       "     target                                               text  sentiment  \\\n",
       "0  omelette  we arrived at the restaurant at 11:58. i asked...          0   \n",
       "1  omelette  delicious breakfasts, scrambled eggs, omelette...          1   \n",
       "2  omelette  we recommend the breakfasts very much! we took...          1   \n",
       "3  omelette  always a good spot for some delightful breakfa...          1   \n",
       "4  omelette  great location across from times square marrio...          1   \n",
       "\n",
       "   stars  \n",
       "0      1  \n",
       "1      5  \n",
       "2      5  \n",
       "3      5  \n",
       "4      4  "
      ]
     },
     "execution_count": 3,
     "metadata": {},
     "output_type": "execute_result"
    }
   ],
   "source": [
    "df = pd.read_csv('data/food_reviews_test.tsv', sep='\\t')\n",
    "df.head()"
   ]
  },
  {
   "cell_type": "code",
   "execution_count": 4,
   "id": "3f4c2299",
   "metadata": {},
   "outputs": [],
   "source": [
    "def pred_sent(x):\n",
    "    if x < 3:\n",
    "        return -1\n",
    "    if x == 3:\n",
    "        return 0\n",
    "    return 1"
   ]
  },
  {
   "cell_type": "code",
   "execution_count": 5,
   "id": "2a5a4d71",
   "metadata": {},
   "outputs": [],
   "source": [
    "pred = df.stars.apply(pred_sent)"
   ]
  },
  {
   "cell_type": "code",
   "execution_count": 6,
   "id": "3c85e089",
   "metadata": {},
   "outputs": [
    {
     "data": {
      "text/plain": [
       "0.7488888888888889"
      ]
     },
     "execution_count": 6,
     "metadata": {},
     "output_type": "execute_result"
    }
   ],
   "source": [
    "accuracy_score(df.sentiment, pred)"
   ]
  },
  {
   "cell_type": "code",
   "execution_count": 9,
   "id": "979642ff",
   "metadata": {},
   "outputs": [
    {
     "data": {
      "text/plain": [
       "0.7482807856543675"
      ]
     },
     "execution_count": 9,
     "metadata": {},
     "output_type": "execute_result"
    }
   ],
   "source": [
    "f1_score(df.sentiment, pred, average='macro')"
   ]
  },
  {
   "cell_type": "code",
   "execution_count": 12,
   "id": "3086abcf",
   "metadata": {},
   "outputs": [
    {
     "data": {
      "text/plain": [
       "count     450.000000\n",
       "mean      283.740000\n",
       "std       245.412813\n",
       "min        11.000000\n",
       "25%       126.000000\n",
       "50%       230.500000\n",
       "75%       353.250000\n",
       "max      1759.000000\n",
       "Name: text, dtype: float64"
      ]
     },
     "execution_count": 12,
     "metadata": {},
     "output_type": "execute_result"
    }
   ],
   "source": [
    "df.text.apply(len).describe()"
   ]
  },
  {
   "cell_type": "code",
   "execution_count": 15,
   "id": "9b964690",
   "metadata": {},
   "outputs": [
    {
     "data": {
      "text/plain": [
       "array([[117,  32,   0],\n",
       "       [ 31,  94,  26],\n",
       "       [  4,  20, 126]], dtype=int64)"
      ]
     },
     "execution_count": 15,
     "metadata": {},
     "output_type": "execute_result"
    }
   ],
   "source": [
    "confusion_matrix(df.sentiment, pred)"
   ]
  },
  {
   "cell_type": "code",
   "execution_count": null,
   "id": "998bc35b",
   "metadata": {},
   "outputs": [],
   "source": []
  }
 ],
 "metadata": {
  "kernelspec": {
   "display_name": "Python 3 (ipykernel)",
   "language": "python",
   "name": "python3"
  },
  "language_info": {
   "codemirror_mode": {
    "name": "ipython",
    "version": 3
   },
   "file_extension": ".py",
   "mimetype": "text/x-python",
   "name": "python",
   "nbconvert_exporter": "python",
   "pygments_lexer": "ipython3",
   "version": "3.8.10"
  }
 },
 "nbformat": 4,
 "nbformat_minor": 5
}
